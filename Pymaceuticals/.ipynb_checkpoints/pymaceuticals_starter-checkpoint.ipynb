{
 "cells": [
  {
   "cell_type": "markdown",
   "metadata": {},
   "source": [
    "<h1>Pymaceuticals Data Analysis</h1>\n"
   ]
  },
  {
   "cell_type": "markdown",
   "metadata": {},
   "source": [
    "## Observations and Insights"
   ]
  },
  {
   "cell_type": "markdown",
   "metadata": {},
   "source": []
  },
  {
   "cell_type": "markdown",
   "metadata": {},
   "source": [
    "## Dependencies and starter code"
   ]
  },
  {
   "cell_type": "code",
   "execution_count": 1,
   "metadata": {},
   "outputs": [
    {
     "data": {
      "text/html": [
       "<div>\n",
       "<style scoped>\n",
       "    .dataframe tbody tr th:only-of-type {\n",
       "        vertical-align: middle;\n",
       "    }\n",
       "\n",
       "    .dataframe tbody tr th {\n",
       "        vertical-align: top;\n",
       "    }\n",
       "\n",
       "    .dataframe thead th {\n",
       "        text-align: right;\n",
       "    }\n",
       "</style>\n",
       "<table border=\"1\" class=\"dataframe\">\n",
       "  <thead>\n",
       "    <tr style=\"text-align: right;\">\n",
       "      <th></th>\n",
       "      <th>Mouse ID</th>\n",
       "      <th>Drug Regimen</th>\n",
       "      <th>Sex</th>\n",
       "      <th>Age_months</th>\n",
       "      <th>Weight (g)</th>\n",
       "      <th>Timepoint</th>\n",
       "      <th>Tumor Volume (mm3)</th>\n",
       "      <th>Metastatic Sites</th>\n",
       "    </tr>\n",
       "  </thead>\n",
       "  <tbody>\n",
       "    <tr>\n",
       "      <th>0</th>\n",
       "      <td>k403</td>\n",
       "      <td>Ramicane</td>\n",
       "      <td>Male</td>\n",
       "      <td>21</td>\n",
       "      <td>16</td>\n",
       "      <td>0</td>\n",
       "      <td>45.000000</td>\n",
       "      <td>0</td>\n",
       "    </tr>\n",
       "    <tr>\n",
       "      <th>1</th>\n",
       "      <td>k403</td>\n",
       "      <td>Ramicane</td>\n",
       "      <td>Male</td>\n",
       "      <td>21</td>\n",
       "      <td>16</td>\n",
       "      <td>5</td>\n",
       "      <td>38.825898</td>\n",
       "      <td>0</td>\n",
       "    </tr>\n",
       "    <tr>\n",
       "      <th>2</th>\n",
       "      <td>k403</td>\n",
       "      <td>Ramicane</td>\n",
       "      <td>Male</td>\n",
       "      <td>21</td>\n",
       "      <td>16</td>\n",
       "      <td>10</td>\n",
       "      <td>35.014271</td>\n",
       "      <td>1</td>\n",
       "    </tr>\n",
       "    <tr>\n",
       "      <th>3</th>\n",
       "      <td>k403</td>\n",
       "      <td>Ramicane</td>\n",
       "      <td>Male</td>\n",
       "      <td>21</td>\n",
       "      <td>16</td>\n",
       "      <td>15</td>\n",
       "      <td>34.223992</td>\n",
       "      <td>1</td>\n",
       "    </tr>\n",
       "    <tr>\n",
       "      <th>4</th>\n",
       "      <td>k403</td>\n",
       "      <td>Ramicane</td>\n",
       "      <td>Male</td>\n",
       "      <td>21</td>\n",
       "      <td>16</td>\n",
       "      <td>20</td>\n",
       "      <td>32.997729</td>\n",
       "      <td>1</td>\n",
       "    </tr>\n",
       "  </tbody>\n",
       "</table>\n",
       "</div>"
      ],
      "text/plain": [
       "  Mouse ID Drug Regimen   Sex  Age_months  Weight (g)  Timepoint  \\\n",
       "0     k403     Ramicane  Male          21          16          0   \n",
       "1     k403     Ramicane  Male          21          16          5   \n",
       "2     k403     Ramicane  Male          21          16         10   \n",
       "3     k403     Ramicane  Male          21          16         15   \n",
       "4     k403     Ramicane  Male          21          16         20   \n",
       "\n",
       "   Tumor Volume (mm3)  Metastatic Sites  \n",
       "0           45.000000                 0  \n",
       "1           38.825898                 0  \n",
       "2           35.014271                 1  \n",
       "3           34.223992                 1  \n",
       "4           32.997729                 1  "
      ]
     },
     "execution_count": 1,
     "metadata": {},
     "output_type": "execute_result"
    }
   ],
   "source": [
    "# Dependencies and Setup\n",
    "\n",
    "import matplotlib.pyplot as plt\n",
    "import pandas as pd\n",
    "import scipy.stats as st\n",
    "import numpy as np\n",
    "\n",
    "\n",
    "# Study data files\n",
    "mouse_metadata = \"data/Mouse_metadata.csv\"\n",
    "study_results = \"data/Study_results.csv\"\n",
    "\n",
    "# Read the mouse data and the study results\n",
    "mouse_metadata = pd.read_csv(mouse_metadata)\n",
    "study_results = pd.read_csv(study_results)\n",
    "\n",
    "# Combine the data into a single dataset\n",
    "study_data = pd.merge(mouse_metadata, study_results, on=\"Mouse ID\", how=\"outer\")\n",
    "study_data.rename(columns={\"Tumor Volume (mm3)\": \"Tumor_Volume_mm3\"})\n",
    "study_data.head()"
   ]
  },
  {
   "cell_type": "markdown",
   "metadata": {},
   "source": [
    "## Summary statistics"
   ]
  },
  {
   "cell_type": "code",
   "execution_count": 2,
   "metadata": {
    "scrolled": true
   },
   "outputs": [
    {
     "data": {
      "text/html": [
       "<div>\n",
       "<style scoped>\n",
       "    .dataframe tbody tr th:only-of-type {\n",
       "        vertical-align: middle;\n",
       "    }\n",
       "\n",
       "    .dataframe tbody tr th {\n",
       "        vertical-align: top;\n",
       "    }\n",
       "\n",
       "    .dataframe thead th {\n",
       "        text-align: right;\n",
       "    }\n",
       "</style>\n",
       "<table border=\"1\" class=\"dataframe\">\n",
       "  <thead>\n",
       "    <tr style=\"text-align: right;\">\n",
       "      <th>Timepoint</th>\n",
       "      <th>Tumor Volume Mean (mm3)</th>\n",
       "      <th>Tumor Volume Median (mm3)</th>\n",
       "      <th>Tumor Volume Variance (mm3)</th>\n",
       "      <th>Tumor Volume Std Dev (mm3)</th>\n",
       "      <th>Tumor Volume SEM (mm3)</th>\n",
       "    </tr>\n",
       "    <tr>\n",
       "      <th>Drug Regimen</th>\n",
       "      <th></th>\n",
       "      <th></th>\n",
       "      <th></th>\n",
       "      <th></th>\n",
       "      <th></th>\n",
       "    </tr>\n",
       "  </thead>\n",
       "  <tbody>\n",
       "    <tr>\n",
       "      <th>Ramicane</th>\n",
       "      <td>39.986931</td>\n",
       "      <td>39.606312</td>\n",
       "      <td>10.630245</td>\n",
       "      <td>3.260406</td>\n",
       "      <td>1.031031</td>\n",
       "    </tr>\n",
       "    <tr>\n",
       "      <th>Capomulin</th>\n",
       "      <td>40.485084</td>\n",
       "      <td>40.327927</td>\n",
       "      <td>9.426531</td>\n",
       "      <td>3.070266</td>\n",
       "      <td>0.970903</td>\n",
       "    </tr>\n",
       "    <tr>\n",
       "      <th>Ceftamin</th>\n",
       "      <td>53.752434</td>\n",
       "      <td>53.222361</td>\n",
       "      <td>41.933072</td>\n",
       "      <td>6.475575</td>\n",
       "      <td>2.047757</td>\n",
       "    </tr>\n",
       "    <tr>\n",
       "      <th>Zoniferol</th>\n",
       "      <td>54.660451</td>\n",
       "      <td>54.301634</td>\n",
       "      <td>49.165446</td>\n",
       "      <td>7.011808</td>\n",
       "      <td>2.217328</td>\n",
       "    </tr>\n",
       "    <tr>\n",
       "      <th>Infubinol</th>\n",
       "      <td>54.911474</td>\n",
       "      <td>54.456472</td>\n",
       "      <td>49.604518</td>\n",
       "      <td>7.043048</td>\n",
       "      <td>2.227207</td>\n",
       "    </tr>\n",
       "    <tr>\n",
       "      <th>Propriva</th>\n",
       "      <td>54.911934</td>\n",
       "      <td>54.425438</td>\n",
       "      <td>49.285862</td>\n",
       "      <td>7.020389</td>\n",
       "      <td>2.220042</td>\n",
       "    </tr>\n",
       "    <tr>\n",
       "      <th>Naftisol</th>\n",
       "      <td>55.891024</td>\n",
       "      <td>55.188028</td>\n",
       "      <td>68.470738</td>\n",
       "      <td>8.274705</td>\n",
       "      <td>2.616691</td>\n",
       "    </tr>\n",
       "    <tr>\n",
       "      <th>Stelasyn</th>\n",
       "      <td>55.949437</td>\n",
       "      <td>55.071451</td>\n",
       "      <td>62.401646</td>\n",
       "      <td>7.899471</td>\n",
       "      <td>2.498032</td>\n",
       "    </tr>\n",
       "    <tr>\n",
       "      <th>Placebo</th>\n",
       "      <td>56.012209</td>\n",
       "      <td>55.923495</td>\n",
       "      <td>61.457850</td>\n",
       "      <td>7.839506</td>\n",
       "      <td>2.479069</td>\n",
       "    </tr>\n",
       "    <tr>\n",
       "      <th>Ketapril</th>\n",
       "      <td>56.806906</td>\n",
       "      <td>56.299958</td>\n",
       "      <td>71.381294</td>\n",
       "      <td>8.448745</td>\n",
       "      <td>2.671728</td>\n",
       "    </tr>\n",
       "  </tbody>\n",
       "</table>\n",
       "</div>"
      ],
      "text/plain": [
       "Timepoint     Tumor Volume Mean (mm3)  Tumor Volume Median (mm3)  \\\n",
       "Drug Regimen                                                       \n",
       "Ramicane                    39.986931                  39.606312   \n",
       "Capomulin                   40.485084                  40.327927   \n",
       "Ceftamin                    53.752434                  53.222361   \n",
       "Zoniferol                   54.660451                  54.301634   \n",
       "Infubinol                   54.911474                  54.456472   \n",
       "Propriva                    54.911934                  54.425438   \n",
       "Naftisol                    55.891024                  55.188028   \n",
       "Stelasyn                    55.949437                  55.071451   \n",
       "Placebo                     56.012209                  55.923495   \n",
       "Ketapril                    56.806906                  56.299958   \n",
       "\n",
       "Timepoint     Tumor Volume Variance (mm3)  Tumor Volume Std Dev (mm3)  \\\n",
       "Drug Regimen                                                            \n",
       "Ramicane                        10.630245                    3.260406   \n",
       "Capomulin                        9.426531                    3.070266   \n",
       "Ceftamin                        41.933072                    6.475575   \n",
       "Zoniferol                       49.165446                    7.011808   \n",
       "Infubinol                       49.604518                    7.043048   \n",
       "Propriva                        49.285862                    7.020389   \n",
       "Naftisol                        68.470738                    8.274705   \n",
       "Stelasyn                        62.401646                    7.899471   \n",
       "Placebo                         61.457850                    7.839506   \n",
       "Ketapril                        71.381294                    8.448745   \n",
       "\n",
       "Timepoint     Tumor Volume SEM (mm3)  \n",
       "Drug Regimen                          \n",
       "Ramicane                    1.031031  \n",
       "Capomulin                   0.970903  \n",
       "Ceftamin                    2.047757  \n",
       "Zoniferol                   2.217328  \n",
       "Infubinol                   2.227207  \n",
       "Propriva                    2.220042  \n",
       "Naftisol                    2.616691  \n",
       "Stelasyn                    2.498032  \n",
       "Placebo                     2.479069  \n",
       "Ketapril                    2.671728  "
      ]
     },
     "execution_count": 2,
     "metadata": {},
     "output_type": "execute_result"
    }
   ],
   "source": [
    "# Generate a summary statistics table of mean, median, variance, standard deviation, and SEM of the tumor volume for each regimen\n",
    "summary_calc=study_data[[\"Drug Regimen\",\"Timepoint\",\"Tumor Volume (mm3)\",\"Weight (g)\"]]\n",
    "summary_data_grouped = summary_calc.groupby(['Drug Regimen','Timepoint'])\n",
    "\n",
    "\n",
    "tumor_mean = summary_data_grouped['Tumor Volume (mm3)'].mean()\n",
    "\n",
    "df = pd.DataFrame(tumor_mean)\n",
    "df_pivot = pd.pivot_table(df, values='Tumor Volume (mm3)', index=['Drug Regimen'],\n",
    "                   columns=['Timepoint'], aggfunc=np.mean)\n",
    "df_pivot[\"Tumor Volume Mean (mm3)\"] = df_pivot.iloc[:, 0:10].mean(axis=1)\n",
    "df_pivot[\"Tumor Volume Median (mm3)\"] = df_pivot.iloc[:, 0:10].median(axis=1)\n",
    "df_pivot[\"Tumor Volume Variance (mm3)\"] = df_pivot.iloc[:, 0:10].var(axis=1)\n",
    "df_pivot[\"Tumor Volume Std Dev (mm3)\"] = df_pivot.iloc[:, 0:10].std(axis=1)\n",
    "df_pivot[\"Tumor Volume SEM (mm3)\"] = df_pivot.iloc[:, 0:10].sem(axis=1)\n",
    "summary = df_pivot[[\"Tumor Volume Mean (mm3)\",\"Tumor Volume Median (mm3)\",\"Tumor Volume Variance (mm3)\",\"Tumor Volume Std Dev (mm3)\", \"Tumor Volume SEM (mm3)\"]]\n",
    "summary = summary.sort_values(by=\"Tumor Volume Mean (mm3)\", ascending=True)\n",
    "\n",
    "summary"
   ]
  },
  {
   "cell_type": "markdown",
   "metadata": {},
   "source": [
    "## Bar plots"
   ]
  },
  {
   "cell_type": "code",
   "execution_count": 3,
   "metadata": {},
   "outputs": [
    {
     "data": {
      "text/plain": [
       "<matplotlib.axes._subplots.AxesSubplot at 0x277a46875c8>"
      ]
     },
     "execution_count": 3,
     "metadata": {},
     "output_type": "execute_result"
    },
    {
     "data": {
      "image/png": "[encoded data removed]",
      "text/plain": [
       "<Figure size 936x360 with 1 Axes>"
      ]
     },
     "metadata": {
      "needs_background": "light"
     },
     "output_type": "display_data"
    }
   ],
   "source": [
    "# Generate a bar plot showing number of data points for each treatment regimen using pandas\n",
    "data_points = study_data['Drug Regimen'].value_counts()\n",
    "dF = pd.DataFrame(data_points)\n",
    "dF = dF.reset_index(drop=False)\n",
    "dF = dF.sort_values(by=\"Drug Regimen\", ascending=True)\n",
    "\n",
    "x_axis= 'index'\n",
    "y_axis = 'Drug Regimen'\n",
    "pandas_bar = dF.plot.barh(x_axis, y_axis, title='Treatment Analysis', xlim=(0,235), ylim=(0,10), color=\"blue\", \n",
    "                          figsize = (13,5), width = 0.75)\n",
    "pandas_bar.set_ylabel(\"Drug Regimen\")\n",
    "pandas_bar.set_xlabel(\"Data Points\")\n",
    "\n",
    "\n",
    "pandas_bar"
   ]
  },
  {
   "cell_type": "code",
   "execution_count": 4,
   "metadata": {
    "scrolled": true
   },
   "outputs": [
    {
     "data": {
      "image/png": "[encoded data removed]",
      "text/plain": [
       "<Figure size 936x360 with 1 Axes>"
      ]
     },
     "metadata": {
      "needs_background": "light"
     },
     "output_type": "display_data"
    }
   ],
   "source": [
    "# Generate a bar plot showing number of data points for each treatment regimen using pyplot\n",
    "x_axis= np.arange(len(dF))\n",
    "y_axis = dF[\"Drug Regimen\"]\n",
    "plt.figure(figsize=(13,5))\n",
    "bar_chart = plt.barh(x_axis, y_axis, color = 'b', alpha= 1, align='center', label='Drug Regimen') \n",
    "plt.xlim(0,235)\n",
    "plt.ylim(-0.75,9.75)\n",
    "\n",
    "plt.title('Treatment Analysis')\n",
    "plt.xlabel(\"Data Points\")\n",
    "plt.ylabel(\"Drug Regimen\")\n",
    "plt.legend(loc='best')\n",
    "\n",
    "tick_locations = [value for value in x_axis]\n",
    "plt.yticks(tick_locations, dF[\"index\"], rotation=\"horizontal\")\n",
    "\n",
    "\n",
    "\n",
    "plt.show()"
   ]
  },
  {
   "cell_type": "markdown",
   "metadata": {},
   "source": [
    "## Pie plots"
   ]
  },
  {
   "cell_type": "code",
   "execution_count": 5,
   "metadata": {},
   "outputs": [
    {
     "data": {
      "image/png": "[encoded data removed]",
      "text/plain": [
       "<Figure size 288x288 with 1 Axes>"
      ]
     },
     "metadata": {},
     "output_type": "display_data"
    }
   ],
   "source": [
    "# Generate a pie plot showing the distribution of female versus male mice using pandas\n",
    "male = (len(study_data.loc[study_data[\"Sex\"] == \"Male\",:])/len(study_data[\"Sex\"]))*100\n",
    "female = (len(study_data.loc[study_data[\"Sex\"] == \"Female\",:])/len(study_data[\"Sex\"]))*100\n",
    "sex_df = pd.DataFrame({\"Sex\": [male, female], \"Mice\":[\"Male\", \"Female\"]})\n",
    "sex_df = sex_df.set_index('Mice')\n",
    "\n",
    "plot = sex_df.plot.pie(y=\"Sex\", figsize =(4, 4), explode=(0.1,0), colors = 'cr', autopct='%1.1f%%',startangle = 70, title=\"Male vs Female\")"
   ]
  },
  {
   "cell_type": "code",
   "execution_count": 6,
   "metadata": {},
   "outputs": [
    {
     "data": {
      "image/png": "[encoded data removed]",
      "text/plain": [
       "<Figure size 288x288 with 1 Axes>"
      ]
     },
     "metadata": {},
     "output_type": "display_data"
    }
   ],
   "source": [
    "# Generate a pie plot showing the distribution of female versus male mice using pyplot\n",
    "male = (len(study_data.loc[study_data[\"Sex\"] == \"Male\",:])/len(study_data[\"Sex\"]))*100\n",
    "female = (len(study_data.loc[study_data[\"Sex\"] == \"Female\",:])/len(study_data[\"Sex\"]))*100\n",
    "sex_df = pd.DataFrame({\"Sex\": [male, female], \"Mice\":[\"Male\", \"Female\"]})\n",
    "sex_df = sex_df.set_index('Mice')\n",
    "sizes =[male, female]\n",
    "colors = [\"c\", \"r\"]\n",
    "labels = [\"Male\",\"Female\"]\n",
    "fig, ax = plt.subplots(figsize=(4, 4), subplot_kw=dict(aspect=\"equal\"))\n",
    "plt.legend(labels, loc='best')\n",
    "explode = (0.1, 0)\n",
    "pie_chart = plt.pie(sizes, labels = labels,explode=explode, autopct = '%1.1f%%', colors=colors, startangle = 70, shadow = True)\n",
    "plt.legend(labels, loc='best')\n",
    "plt.title('Male vs Female')\n",
    "plt.ylabel(\"Sex\")\n",
    "plt.show()"
   ]
  },
  {
   "cell_type": "markdown",
   "metadata": {},
   "source": [
    "## Quartiles, outliers and boxplots"
   ]
  },
  {
   "cell_type": "code",
   "execution_count": 7,
   "metadata": {},
   "outputs": [
    {
     "name": "stdout",
     "output_type": "stream",
     "text": [
      "There is(are) 0 outlier(s) in Campomulin and here is a list: []\n",
      "There is(are) 0 outlier(s) in Ramicane and here is a list: []\n",
      "There is(are) 1 outlier(s) in Infubinol and here is a list: [36.321345799999996]\n",
      "There is(are) 0 outlier(s) in Ceftamin and here is a list: []\n"
     ]
    }
   ],
   "source": [
    "# Calculate the final tumor volume of each mouse across four of the most promising treatment regimens. Calculate the IQR and quantitatively determine if there are any potential outliers. \n",
    "most_promise=study_data[[\"Mouse ID\",\"Drug Regimen\",\"Tumor Volume (mm3)\"]]\\\n",
    "        .groupby([\"Mouse ID\", \"Drug Regimen\" ]).last()\\\n",
    "        .sort_values(by = \"Drug Regimen\", ascending = True).reset_index()\n",
    "most_promise.set_index([\"Drug Regimen\", \"Mouse ID\"], inplace =True)\n",
    "\n",
    "capomulin = most_promise.loc['Capomulin'][\"Tumor Volume (mm3)\"]\n",
    "quartiles_capomulin = capomulin.quantile([.25,.5,.75])\n",
    "lower_capomulin = quartiles_capomulin[.25]\n",
    "upper_capomulin = quartiles_capomulin[.75]\n",
    "iqr_capomulin = upper_capomulin-lower_capomulin\n",
    "capomulin_outliers = []\n",
    "for value in capomulin:\n",
    "    if value > upper_capomulin + 1.5*iqr_capomulin:\n",
    "        capomulin_outliers.append(value)\n",
    "    elif value < lower_capomulin - 1.5*iqr_capomulin:\n",
    "        capomulin_outliers.append(value)\n",
    "print(f\"There is(are) \" + str(len(capomulin_outliers)) + \" outlier(s) in Campomulin and here is a list: \" + str(capomulin_outliers))\n",
    "    \n",
    "ramicane = most_promise.loc['Ramicane'][\"Tumor Volume (mm3)\"]\n",
    "quartiles_ramicane = ramicane.quantile([.25,.5,.75])\n",
    "lower_ramicane = quartiles_ramicane[.25]\n",
    "upper_ramicane = quartiles_ramicane[.75]\n",
    "iqr_ramicane = upper_ramicane-lower_ramicane\n",
    "ramicane_outliers = []\n",
    "for value in ramicane:\n",
    "    if value > upper_ramicane + 1.5*iqr_ramicane:\n",
    "        ramicane_outliers.append(value)\n",
    "    elif value < lower_ramicane - 1.5*iqr_ramicane:\n",
    "        ramicane_outliers.append(value)\n",
    "print(f\"There is(are) \" + str(len(ramicane_outliers)) + \" outlier(s) in Ramicane and here is a list: \" + str(ramicane_outliers))\n",
    "\n",
    "infubinol = most_promise.loc['Infubinol'][\"Tumor Volume (mm3)\"]\n",
    "quartiles_infubinol = infubinol.quantile([.25,.5,.75])\n",
    "lower_infubinol = quartiles_infubinol[.25]\n",
    "upper_infubinol = quartiles_infubinol[.75]\n",
    "iqr_infubinol = upper_infubinol-lower_infubinol\n",
    "infubinol_outliers = []\n",
    "for value in infubinol:\n",
    "    if value > upper_infubinol + 1.5*iqr_infubinol:\n",
    "        infubinol_outliers.append(value)\n",
    "    elif value < lower_infubinol - 1.5*iqr_infubinol:\n",
    "        infubinol_outliers.append(value)\n",
    "print(f\"There is(are) \" + str(len(infubinol_outliers)) + \" outlier(s) in Infubinol and here is a list: \" + str(infubinol_outliers))\n",
    "\n",
    "\n",
    "ceftamin = most_promise.loc['Ceftamin'][\"Tumor Volume (mm3)\"]\n",
    "quartiles_ceftamin = ceftamin.quantile([.25,.5,.75])\n",
    "lower_ceftamin = quartiles_ceftamin[.25]\n",
    "upper_ceftamin = quartiles_ceftamin[.75]\n",
    "iqr_ceftamin = upper_ceftamin-lower_ceftamin\n",
    "ceftamin_outliers = []\n",
    "for value in ceftamin:\n",
    "    if value > upper_ceftamin + 1.5*iqr_ceftamin:\n",
    "        ceftamin_outliers.append(value)\n",
    "    elif value < lower_ceftamin - 1.5*iqr_ceftamin:\n",
    "        ceftamin_outliers.append(value)\n",
    "print(f\"There is(are) \" + str(len(ceftamin_outliers)) + \" outlier(s) in Ceftamin and here is a list: \" + str(ceftamin_outliers))\n",
    "\n"
   ]
  },
  {
   "cell_type": "code",
   "execution_count": 8,
   "metadata": {},
   "outputs": [
    {
     "data": {
      "image/png": "[encoded data removed]",
      "text/plain": [
       "<Figure size 432x288 with 1 Axes>"
      ]
     },
     "metadata": {
      "needs_background": "light"
     },
     "output_type": "display_data"
    }
   ],
   "source": [
    "# Generate a box plot of the final tumor volume of each mouse across four regimens of interest\n",
    "\n",
    "capomulin = list(capomulin)\n",
    "ceftamin = list(ceftamin)\n",
    "infubinol = list(infubinol)\n",
    "ramicane = list(ramicane)\n",
    "\n",
    "fig1, ax = plt.subplots()\n",
    "ax.set_xticklabels(['Capomulin', 'Ceftamin', 'Infubinol', 'Ramicane'])\n",
    "circle = dict(markerfacecolor='purple', marker='o')\n",
    "square = dict(markerfacecolor='black', marker='s')\n",
    "diamond = dict(markerfacecolor='b', marker='d')\n",
    "pentagon = dict(markerfacecolor='g', marker='p')\n",
    "data = [capomulin, ceftamin, infubinol, ramicane]\n",
    "ax.set_title(\"Treatment Results on Box Plot\", fontsize = 18)\n",
    "ax.yaxis.grid(True, linestyle='-', which='major', color='lightgrey', alpha=0.3)\n",
    "\n",
    "ax.set_xlabel('Drug Regimen')\n",
    "ax.set_ylabel('Final Tumor Volume (mm3)')\n",
    "box1 = ax.boxplot(capomulin, positions = [1], flierprops=circle, showmeans=True, meanline=True, patch_artist=True)\n",
    "box2 = ax.boxplot(ceftamin, positions = [2], flierprops=square, showmeans=True, meanline=True,patch_artist=True)\n",
    "box3 = ax.boxplot(infubinol,positions = [3], flierprops=diamond, showmeans=True, meanline=True, patch_artist=True)\n",
    "box4 = ax.boxplot(ramicane,positions = [4], flierprops=pentagon, showmeans=True, meanline=True, patch_artist=True)\n",
    "c1=['purple']\n",
    "c2=['black']\n",
    "c3=['blue']\n",
    "c4=['green']\n",
    "for patch, color in zip(box1['boxes'], c1):\n",
    "    patch.set_fc(color)\n",
    "for patch, color in zip(box2['boxes'], c2):\n",
    "    patch.set_fc(color)\n",
    "for patch, color in zip(box3['boxes'], c3):\n",
    "    patch.set_fc(color)\n",
    "for patch, color in zip(box4['boxes'], c4):\n",
    "    patch.set_fc(color)\n",
    "\n",
    "plt.show()\n"
   ]
  },
  {
   "cell_type": "markdown",
   "metadata": {},
   "source": [
    "## Line and scatter plots"
   ]
  },
  {
   "cell_type": "code",
   "execution_count": 9,
   "metadata": {},
   "outputs": [
    {
     "data": {
      "text/html": [
       "<div>\n",
       "<style scoped>\n",
       "    .dataframe tbody tr th:only-of-type {\n",
       "        vertical-align: middle;\n",
       "    }\n",
       "\n",
       "    .dataframe tbody tr th {\n",
       "        vertical-align: top;\n",
       "    }\n",
       "\n",
       "    .dataframe thead th {\n",
       "        text-align: right;\n",
       "    }\n",
       "</style>\n",
       "<table border=\"1\" class=\"dataframe\">\n",
       "  <thead>\n",
       "    <tr style=\"text-align: right;\">\n",
       "      <th></th>\n",
       "      <th>Timepoint</th>\n",
       "      <th>Mouse ID</th>\n",
       "      <th>Tumor Volume (mm3)</th>\n",
       "    </tr>\n",
       "    <tr>\n",
       "      <th>Drug Regimen</th>\n",
       "      <th></th>\n",
       "      <th></th>\n",
       "      <th></th>\n",
       "    </tr>\n",
       "  </thead>\n",
       "  <tbody>\n",
       "    <tr>\n",
       "      <th>Capomulin</th>\n",
       "      <td>0</td>\n",
       "      <td>b128</td>\n",
       "      <td>45.000000</td>\n",
       "    </tr>\n",
       "    <tr>\n",
       "      <th>Capomulin</th>\n",
       "      <td>5</td>\n",
       "      <td>b128</td>\n",
       "      <td>45.651331</td>\n",
       "    </tr>\n",
       "    <tr>\n",
       "      <th>Capomulin</th>\n",
       "      <td>10</td>\n",
       "      <td>b128</td>\n",
       "      <td>43.270852</td>\n",
       "    </tr>\n",
       "    <tr>\n",
       "      <th>Capomulin</th>\n",
       "      <td>15</td>\n",
       "      <td>b128</td>\n",
       "      <td>43.784893</td>\n",
       "    </tr>\n",
       "    <tr>\n",
       "      <th>Capomulin</th>\n",
       "      <td>20</td>\n",
       "      <td>b128</td>\n",
       "      <td>42.731552</td>\n",
       "    </tr>\n",
       "    <tr>\n",
       "      <th>Capomulin</th>\n",
       "      <td>25</td>\n",
       "      <td>b128</td>\n",
       "      <td>43.262145</td>\n",
       "    </tr>\n",
       "    <tr>\n",
       "      <th>Capomulin</th>\n",
       "      <td>30</td>\n",
       "      <td>b128</td>\n",
       "      <td>40.605335</td>\n",
       "    </tr>\n",
       "    <tr>\n",
       "      <th>Capomulin</th>\n",
       "      <td>35</td>\n",
       "      <td>b128</td>\n",
       "      <td>37.967644</td>\n",
       "    </tr>\n",
       "    <tr>\n",
       "      <th>Capomulin</th>\n",
       "      <td>40</td>\n",
       "      <td>b128</td>\n",
       "      <td>38.379726</td>\n",
       "    </tr>\n",
       "    <tr>\n",
       "      <th>Capomulin</th>\n",
       "      <td>45</td>\n",
       "      <td>b128</td>\n",
       "      <td>38.982878</td>\n",
       "    </tr>\n",
       "  </tbody>\n",
       "</table>\n",
       "</div>"
      ],
      "text/plain": [
       "              Timepoint Mouse ID  Tumor Volume (mm3)\n",
       "Drug Regimen                                        \n",
       "Capomulin             0     b128           45.000000\n",
       "Capomulin             5     b128           45.651331\n",
       "Capomulin            10     b128           43.270852\n",
       "Capomulin            15     b128           43.784893\n",
       "Capomulin            20     b128           42.731552\n",
       "Capomulin            25     b128           43.262145\n",
       "Capomulin            30     b128           40.605335\n",
       "Capomulin            35     b128           37.967644\n",
       "Capomulin            40     b128           38.379726\n",
       "Capomulin            45     b128           38.982878"
      ]
     },
     "execution_count": 9,
     "metadata": {},
     "output_type": "execute_result"
    },
    {
     "data": {
      "image/png": "[encoded data removed]",
      "text/plain": [
       "<Figure size 936x360 with 1 Axes>"
      ]
     },
     "metadata": {
      "needs_background": "light"
     },
     "output_type": "display_data"
    }
   ],
   "source": [
    "# Generate a line plot of time point versus tumor volume for a mouse treated with Capomulin\n",
    "capomulin_data =study_data[[\"Drug Regimen\",\"Timepoint\", \"Mouse ID\",\"Tumor Volume (mm3)\"]]\n",
    "capomulin_data.set_index([\"Drug Regimen\"], inplace =True)\n",
    "capomulin_data = capomulin_data.loc[\"Capomulin\", :]\n",
    "capomulin_data = capomulin_data.sort_values(by=\"Mouse ID\", ascending = True)\n",
    "capomulin_data = capomulin_data.head(10)\n",
    "capomulin_data = capomulin_data.sort_values(by=\"Timepoint\", ascending = True)\n",
    "\n",
    "line= capomulin_data.plot.line(x=\"Timepoint\", y=\"Tumor Volume (mm3)\", xlim=(-1,46), ylim=(37,46),color=\"green\", \n",
    "                               figsize = (13,5), fontsize = 15)\n",
    "line.set_ylabel(\"Tumor Volume\", fontsize = 15)\n",
    "line.set_xlabel(\"Timepoint\", fontsize = 15)\n",
    "line.set_title(' Results for b128 by Capomulin Regimen', fontsize=15)\n",
    "capomulin_data"
   ]
  },
  {
   "cell_type": "code",
   "execution_count": 21,
   "metadata": {},
   "outputs": [
    {
     "data": {
      "image/png": "[encoded data removed]",
      "text/plain": [
       "<Figure size 1080x360 with 1 Axes>"
      ]
     },
     "metadata": {
      "needs_background": "light"
     },
     "output_type": "display_data"
    }
   ],
   "source": [
    "# Generate a scatter plot of mouse weight versus average tumor volume for the Capomulin regimen\n",
    "weight_df = study_data[[\"Drug Regimen\",\"Tumor Volume (mm3)\",\"Weight (g)\"]]\\\n",
    "        .groupby([\"Weight (g)\"]).mean()\n",
    "weight_df = weight_df.reset_index(drop=False)\n",
    "weight_df\n",
    "plt.figure(figsize=(15,5))\n",
    "plt.xlim(14,31)\n",
    "plt.ylim(35.5,55)\n",
    "plt.scatter(weight_df['Weight (g)'], weight_df['Tumor Volume (mm3)'], marker=\"o\", facecolors=\"DarkBlue\", edgecolors=\"black\")\n",
    "plt.ylabel(\"Average Tumor Volume (mm3)\", fontsize = 12)\n",
    "plt.xlabel(\"Weight (g)\", fontsize = 12)\n",
    "plt.title(\"Mouse weight vs Average Tumor Volume\", fontsize=14)\n",
    "plt.plot(weight_df['Weight (g)'], weight_df['Tumor Volume (mm3)'], color='red', label=\"Weight (g)\")\n",
    "plt.legend(loc=\"best\")\n",
    "\n",
    "\n",
    "plt.show()"
   ]
  },
  {
   "cell_type": "code",
   "execution_count": 11,
   "metadata": {},
   "outputs": [],
   "source": [
    "# Calculate the correlation coefficient and linear regression model for mouse weight and average tumor volume for the Capomulin regimen"
   ]
  },
  {
   "cell_type": "code",
   "execution_count": null,
   "metadata": {},
   "outputs": [],
   "source": []
  }
 ],
 "metadata": {
  "anaconda-cloud": {},
  "kernelspec": {
   "display_name": "Python 3",
   "language": "python",
   "name": "python3"
  },
  "language_info": {
   "codemirror_mode": {
    "name": "ipython",
    "version": 3
   },
   "file_extension": ".py",
   "mimetype": "text/x-python",
   "name": "python",
   "nbconvert_exporter": "python",
   "pygments_lexer": "ipython3",
   "version": "3.7.6"
  }
 },
 "nbformat": 4,
 "nbformat_minor": 2
}
