{
 "cells": [
  {
   "cell_type": "markdown",
   "metadata": {},
   "source": [
    "<h1>Pymaceuticals Data Analysis</h1>\n"
   ]
  },
  {
   "cell_type": "markdown",
   "metadata": {},
   "source": [
    "## Observations and Insights"
   ]
  },
  {
   "cell_type": "markdown",
   "metadata": {},
   "source": []
  },
  {
   "cell_type": "markdown",
   "metadata": {},
   "source": [
    "## Dependencies and starter code"
   ]
  },
  {
   "cell_type": "code",
   "execution_count": 1,
   "metadata": {},
   "outputs": [
    {
     "data": {
      "text/html": [
       "<div>\n",
       "<style scoped>\n",
       "    .dataframe tbody tr th:only-of-type {\n",
       "        vertical-align: middle;\n",
       "    }\n",
       "\n",
       "    .dataframe tbody tr th {\n",
       "        vertical-align: top;\n",
       "    }\n",
       "\n",
       "    .dataframe thead th {\n",
       "        text-align: right;\n",
       "    }\n",
       "</style>\n",
       "<table border=\"1\" class=\"dataframe\">\n",
       "  <thead>\n",
       "    <tr style=\"text-align: right;\">\n",
       "      <th></th>\n",
       "      <th>Mouse ID</th>\n",
       "      <th>Drug Regimen</th>\n",
       "      <th>Sex</th>\n",
       "      <th>Age_months</th>\n",
       "      <th>Weight (g)</th>\n",
       "      <th>Timepoint</th>\n",
       "      <th>Tumor Volume (mm3)</th>\n",
       "      <th>Metastatic Sites</th>\n",
       "    </tr>\n",
       "  </thead>\n",
       "  <tbody>\n",
       "    <tr>\n",
       "      <th>0</th>\n",
       "      <td>k403</td>\n",
       "      <td>Ramicane</td>\n",
       "      <td>Male</td>\n",
       "      <td>21</td>\n",
       "      <td>16</td>\n",
       "      <td>0</td>\n",
       "      <td>45.000000</td>\n",
       "      <td>0</td>\n",
       "    </tr>\n",
       "    <tr>\n",
       "      <th>1</th>\n",
       "      <td>k403</td>\n",
       "      <td>Ramicane</td>\n",
       "      <td>Male</td>\n",
       "      <td>21</td>\n",
       "      <td>16</td>\n",
       "      <td>5</td>\n",
       "      <td>38.825898</td>\n",
       "      <td>0</td>\n",
       "    </tr>\n",
       "    <tr>\n",
       "      <th>2</th>\n",
       "      <td>k403</td>\n",
       "      <td>Ramicane</td>\n",
       "      <td>Male</td>\n",
       "      <td>21</td>\n",
       "      <td>16</td>\n",
       "      <td>10</td>\n",
       "      <td>35.014271</td>\n",
       "      <td>1</td>\n",
       "    </tr>\n",
       "    <tr>\n",
       "      <th>3</th>\n",
       "      <td>k403</td>\n",
       "      <td>Ramicane</td>\n",
       "      <td>Male</td>\n",
       "      <td>21</td>\n",
       "      <td>16</td>\n",
       "      <td>15</td>\n",
       "      <td>34.223992</td>\n",
       "      <td>1</td>\n",
       "    </tr>\n",
       "    <tr>\n",
       "      <th>4</th>\n",
       "      <td>k403</td>\n",
       "      <td>Ramicane</td>\n",
       "      <td>Male</td>\n",
       "      <td>21</td>\n",
       "      <td>16</td>\n",
       "      <td>20</td>\n",
       "      <td>32.997729</td>\n",
       "      <td>1</td>\n",
       "    </tr>\n",
       "    <tr>\n",
       "      <th>...</th>\n",
       "      <td>...</td>\n",
       "      <td>...</td>\n",
       "      <td>...</td>\n",
       "      <td>...</td>\n",
       "      <td>...</td>\n",
       "      <td>...</td>\n",
       "      <td>...</td>\n",
       "      <td>...</td>\n",
       "    </tr>\n",
       "    <tr>\n",
       "      <th>1888</th>\n",
       "      <td>z969</td>\n",
       "      <td>Naftisol</td>\n",
       "      <td>Male</td>\n",
       "      <td>9</td>\n",
       "      <td>30</td>\n",
       "      <td>25</td>\n",
       "      <td>63.145652</td>\n",
       "      <td>2</td>\n",
       "    </tr>\n",
       "    <tr>\n",
       "      <th>1889</th>\n",
       "      <td>z969</td>\n",
       "      <td>Naftisol</td>\n",
       "      <td>Male</td>\n",
       "      <td>9</td>\n",
       "      <td>30</td>\n",
       "      <td>30</td>\n",
       "      <td>65.841013</td>\n",
       "      <td>3</td>\n",
       "    </tr>\n",
       "    <tr>\n",
       "      <th>1890</th>\n",
       "      <td>z969</td>\n",
       "      <td>Naftisol</td>\n",
       "      <td>Male</td>\n",
       "      <td>9</td>\n",
       "      <td>30</td>\n",
       "      <td>35</td>\n",
       "      <td>69.176246</td>\n",
       "      <td>4</td>\n",
       "    </tr>\n",
       "    <tr>\n",
       "      <th>1891</th>\n",
       "      <td>z969</td>\n",
       "      <td>Naftisol</td>\n",
       "      <td>Male</td>\n",
       "      <td>9</td>\n",
       "      <td>30</td>\n",
       "      <td>40</td>\n",
       "      <td>70.314904</td>\n",
       "      <td>4</td>\n",
       "    </tr>\n",
       "    <tr>\n",
       "      <th>1892</th>\n",
       "      <td>z969</td>\n",
       "      <td>Naftisol</td>\n",
       "      <td>Male</td>\n",
       "      <td>9</td>\n",
       "      <td>30</td>\n",
       "      <td>45</td>\n",
       "      <td>73.867845</td>\n",
       "      <td>4</td>\n",
       "    </tr>\n",
       "  </tbody>\n",
       "</table>\n",
       "<p>1893 rows × 8 columns</p>\n",
       "</div>"
      ],
      "text/plain": [
       "     Mouse ID Drug Regimen   Sex  Age_months  Weight (g)  Timepoint  \\\n",
       "0        k403     Ramicane  Male          21          16          0   \n",
       "1        k403     Ramicane  Male          21          16          5   \n",
       "2        k403     Ramicane  Male          21          16         10   \n",
       "3        k403     Ramicane  Male          21          16         15   \n",
       "4        k403     Ramicane  Male          21          16         20   \n",
       "...       ...          ...   ...         ...         ...        ...   \n",
       "1888     z969     Naftisol  Male           9          30         25   \n",
       "1889     z969     Naftisol  Male           9          30         30   \n",
       "1890     z969     Naftisol  Male           9          30         35   \n",
       "1891     z969     Naftisol  Male           9          30         40   \n",
       "1892     z969     Naftisol  Male           9          30         45   \n",
       "\n",
       "      Tumor Volume (mm3)  Metastatic Sites  \n",
       "0              45.000000                 0  \n",
       "1              38.825898                 0  \n",
       "2              35.014271                 1  \n",
       "3              34.223992                 1  \n",
       "4              32.997729                 1  \n",
       "...                  ...               ...  \n",
       "1888           63.145652                 2  \n",
       "1889           65.841013                 3  \n",
       "1890           69.176246                 4  \n",
       "1891           70.314904                 4  \n",
       "1892           73.867845                 4  \n",
       "\n",
       "[1893 rows x 8 columns]"
      ]
     },
     "execution_count": 1,
     "metadata": {},
     "output_type": "execute_result"
    }
   ],
   "source": [
    "# Dependencies and Setup\n",
    "\n",
    "import matplotlib.pyplot as plt\n",
    "import pandas as pd\n",
    "import scipy.stats as st\n",
    "\n",
    "# Study data files\n",
    "mouse_metadata = \"data/Mouse_metadata.csv\"\n",
    "study_results = \"data/Study_results.csv\"\n",
    "\n",
    "# Read the mouse data and the study results\n",
    "mouse_metadata = pd.read_csv(mouse_metadata)\n",
    "study_results = pd.read_csv(study_results)\n",
    "\n",
    "# Combine the data into a single dataset\n",
    "study_data = pd.merge(mouse_metadata, study_results, on=\"Mouse ID\", how=\"outer\")\n",
    "study_data"
   ]
  },
  {
   "cell_type": "markdown",
   "metadata": {},
   "source": [
    "## Summary statistics"
   ]
  },
  {
   "cell_type": "code",
   "execution_count": 2,
   "metadata": {},
   "outputs": [
    {
     "data": {
      "text/html": [
       "<div>\n",
       "<style scoped>\n",
       "    .dataframe tbody tr th:only-of-type {\n",
       "        vertical-align: middle;\n",
       "    }\n",
       "\n",
       "    .dataframe tbody tr th {\n",
       "        vertical-align: top;\n",
       "    }\n",
       "\n",
       "    .dataframe thead th {\n",
       "        text-align: right;\n",
       "    }\n",
       "</style>\n",
       "<table border=\"1\" class=\"dataframe\">\n",
       "  <thead>\n",
       "    <tr style=\"text-align: right;\">\n",
       "      <th></th>\n",
       "      <th>Drug Regimen</th>\n",
       "      <th>Mouse ID</th>\n",
       "      <th>Tumor Volume (mm3)</th>\n",
       "      <th>Tumor Volume Mean (mm3)</th>\n",
       "      <th>Tumor Volume Median (mm3)</th>\n",
       "      <th>Tumor Volume Variance (mm3)</th>\n",
       "      <th>Tumor Volume Std Dev (mm3)</th>\n",
       "      <th>Tumor Volume SEM (mm3)</th>\n",
       "    </tr>\n",
       "  </thead>\n",
       "  <tbody>\n",
       "    <tr>\n",
       "      <th>3</th>\n",
       "      <td>Ketapril</td>\n",
       "      <td>m650</td>\n",
       "      <td>73.901399</td>\n",
       "      <td>62.806191</td>\n",
       "      <td>64.487812</td>\n",
       "      <td>98.921330</td>\n",
       "      <td>9.945920</td>\n",
       "      <td>1.989184</td>\n",
       "    </tr>\n",
       "    <tr>\n",
       "      <th>4</th>\n",
       "      <td>Naftisol</td>\n",
       "      <td>v835</td>\n",
       "      <td>51.296543</td>\n",
       "      <td>61.205757</td>\n",
       "      <td>63.283288</td>\n",
       "      <td>106.029927</td>\n",
       "      <td>10.297083</td>\n",
       "      <td>2.059417</td>\n",
       "    </tr>\n",
       "    <tr>\n",
       "      <th>8</th>\n",
       "      <td>Stelasyn</td>\n",
       "      <td>p387</td>\n",
       "      <td>69.038876</td>\n",
       "      <td>61.001707</td>\n",
       "      <td>62.192350</td>\n",
       "      <td>90.331586</td>\n",
       "      <td>9.504293</td>\n",
       "      <td>1.940056</td>\n",
       "    </tr>\n",
       "    <tr>\n",
       "      <th>5</th>\n",
       "      <td>Placebo</td>\n",
       "      <td>q787</td>\n",
       "      <td>66.096475</td>\n",
       "      <td>60.508414</td>\n",
       "      <td>62.030594</td>\n",
       "      <td>78.759797</td>\n",
       "      <td>8.874672</td>\n",
       "      <td>1.774934</td>\n",
       "    </tr>\n",
       "    <tr>\n",
       "      <th>9</th>\n",
       "      <td>Zoniferol</td>\n",
       "      <td>k894</td>\n",
       "      <td>60.752704</td>\n",
       "      <td>59.181258</td>\n",
       "      <td>61.840058</td>\n",
       "      <td>76.862027</td>\n",
       "      <td>8.767099</td>\n",
       "      <td>1.753420</td>\n",
       "    </tr>\n",
       "    <tr>\n",
       "      <th>2</th>\n",
       "      <td>Infubinol</td>\n",
       "      <td>o813</td>\n",
       "      <td>45.699331</td>\n",
       "      <td>58.178246</td>\n",
       "      <td>60.165180</td>\n",
       "      <td>74.010875</td>\n",
       "      <td>8.602957</td>\n",
       "      <td>1.720591</td>\n",
       "    </tr>\n",
       "    <tr>\n",
       "      <th>1</th>\n",
       "      <td>Ceftamin</td>\n",
       "      <td>p438</td>\n",
       "      <td>61.433892</td>\n",
       "      <td>57.753977</td>\n",
       "      <td>59.851956</td>\n",
       "      <td>69.982735</td>\n",
       "      <td>8.365568</td>\n",
       "      <td>1.673114</td>\n",
       "    </tr>\n",
       "    <tr>\n",
       "      <th>6</th>\n",
       "      <td>Propriva</td>\n",
       "      <td>r107</td>\n",
       "      <td>58.406473</td>\n",
       "      <td>56.736964</td>\n",
       "      <td>55.841410</td>\n",
       "      <td>69.349002</td>\n",
       "      <td>8.327605</td>\n",
       "      <td>1.665521</td>\n",
       "    </tr>\n",
       "    <tr>\n",
       "      <th>0</th>\n",
       "      <td>Capomulin</td>\n",
       "      <td>b128</td>\n",
       "      <td>38.982878</td>\n",
       "      <td>36.667568</td>\n",
       "      <td>38.125164</td>\n",
       "      <td>32.663378</td>\n",
       "      <td>5.715188</td>\n",
       "      <td>1.143038</td>\n",
       "    </tr>\n",
       "    <tr>\n",
       "      <th>7</th>\n",
       "      <td>Ramicane</td>\n",
       "      <td>r811</td>\n",
       "      <td>37.225650</td>\n",
       "      <td>36.191390</td>\n",
       "      <td>36.561652</td>\n",
       "      <td>32.166354</td>\n",
       "      <td>5.671539</td>\n",
       "      <td>1.134308</td>\n",
       "    </tr>\n",
       "  </tbody>\n",
       "</table>\n",
       "</div>"
      ],
      "text/plain": [
       "  Drug Regimen Mouse ID  Tumor Volume (mm3)  Tumor Volume Mean (mm3)  \\\n",
       "3     Ketapril     m650           73.901399                62.806191   \n",
       "4     Naftisol     v835           51.296543                61.205757   \n",
       "8     Stelasyn     p387           69.038876                61.001707   \n",
       "5      Placebo     q787           66.096475                60.508414   \n",
       "9    Zoniferol     k894           60.752704                59.181258   \n",
       "2    Infubinol     o813           45.699331                58.178246   \n",
       "1     Ceftamin     p438           61.433892                57.753977   \n",
       "6     Propriva     r107           58.406473                56.736964   \n",
       "0    Capomulin     b128           38.982878                36.667568   \n",
       "7     Ramicane     r811           37.225650                36.191390   \n",
       "\n",
       "   Tumor Volume Median (mm3)  Tumor Volume Variance (mm3)  \\\n",
       "3                  64.487812                    98.921330   \n",
       "4                  63.283288                   106.029927   \n",
       "8                  62.192350                    90.331586   \n",
       "5                  62.030594                    78.759797   \n",
       "9                  61.840058                    76.862027   \n",
       "2                  60.165180                    74.010875   \n",
       "1                  59.851956                    69.982735   \n",
       "6                  55.841410                    69.349002   \n",
       "0                  38.125164                    32.663378   \n",
       "7                  36.561652                    32.166354   \n",
       "\n",
       "   Tumor Volume Std Dev (mm3)  Tumor Volume SEM (mm3)  \n",
       "3                    9.945920                1.989184  \n",
       "4                   10.297083                2.059417  \n",
       "8                    9.504293                1.940056  \n",
       "5                    8.874672                1.774934  \n",
       "9                    8.767099                1.753420  \n",
       "2                    8.602957                1.720591  \n",
       "1                    8.365568                1.673114  \n",
       "6                    8.327605                1.665521  \n",
       "0                    5.715188                1.143038  \n",
       "7                    5.671539                1.134308  "
      ]
     },
     "execution_count": 2,
     "metadata": {},
     "output_type": "execute_result"
    }
   ],
   "source": [
    "# Generate a summary statistics table of mean, median, variance, standard deviation, and SEM of the tumor volume for each regimen\n",
    "summary_calc=study_data[[\"Mouse ID\",\"Drug Regimen\",\"Tumor Volume (mm3)\"]]\\\n",
    "        .groupby([\"Drug Regimen\", \"Mouse ID\" ]).last()\\\n",
    "        .sort_values(by = \"Drug Regimen\", ascending = True).reset_index()\n",
    "summary_data_grouped = summary_calc.groupby(['Drug Regimen'])\n",
    "tumor_mean = list(summary_data_grouped['Tumor Volume (mm3)'].mean())\n",
    "tumor_median = list(summary_data_grouped['Tumor Volume (mm3)'].median())\n",
    "tumor_var = list(summary_data_grouped['Tumor Volume (mm3)'].var())\n",
    "tumor_std = list(summary_data_grouped['Tumor Volume (mm3)'].std())\n",
    "tumor_sem = list(summary_data_grouped['Tumor Volume (mm3)'].sem())\n",
    "summary_df = summary_calc.drop_duplicates([\"Drug Regimen\"]).reset_index(drop=True)\n",
    "summary_df[\"Tumor Volume Mean (mm3)\"] = tumor_mean\n",
    "summary_df[\"Tumor Volume Median (mm3)\"] = tumor_median\n",
    "summary_df[\"Tumor Volume Variance (mm3)\"] = tumor_var\n",
    "summary_df[\"Tumor Volume Std Dev (mm3)\"] = tumor_std\n",
    "summary_df[\"Tumor Volume SEM (mm3)\"] = tumor_sem\n",
    "summary_df = summary_df.sort_values(by=\"Tumor Volume Mean (mm3)\", ascending=False)\n",
    "summary_df"
   ]
  },
  {
   "cell_type": "markdown",
   "metadata": {},
   "source": [
    "## Bar plots"
   ]
  },
  {
   "cell_type": "code",
   "execution_count": 3,
   "metadata": {},
   "outputs": [
    {
     "data": {
      "text/plain": [
       "<matplotlib.axes._subplots.AxesSubplot at 0x1b839f8f908>"
      ]
     },
     "execution_count": 3,
     "metadata": {},
     "output_type": "execute_result"
    },
    {
     "data": {
      "image/png": "[encoded data removed]",
      "text/plain": [
       "<Figure size 432x288 with 1 Axes>"
      ]
     },
     "metadata": {
      "needs_background": "light"
     },
     "output_type": "display_data"
    }
   ],
   "source": [
    "# Generate a bar plot showing number of data points for each treatment regimen using pandas\n",
    "\n",
    "x_axis= 'Drug Regimen'\n",
    "y_axis = \"Tumor Volume Mean (mm3)\"\n",
    "pandas_bar = summary_df.plot.bar(x_axis, y_axis, title='Treatment Regimen Analysis', xlim=(-1,10), ylim=(0,70), color=\"blue\")\n",
    "pandas_bar.set_ylabel(\"Average Tumor Volume (mm3)\")\n",
    "pandas_bar"
   ]
  },
  {
   "cell_type": "code",
   "execution_count": 4,
   "metadata": {
    "scrolled": true
   },
   "outputs": [
    {
     "data": {
      "image/png": "[encoded data removed]",
      "text/plain": [
       "<Figure size 432x288 with 1 Axes>"
      ]
     },
     "metadata": {
      "needs_background": "light"
     },
     "output_type": "display_data"
    }
   ],
   "source": [
    "# Generate a bar plot showing number of data points for each treatment regimen using pyplot\n",
    "x_axis= summary_df['Drug Regimen']\n",
    "y_axis = summary_df[\"Tumor Volume Mean (mm3)\"]\n",
    "bar_chart = plt.bar(x_axis, y_axis, color = 'b', alpha= 1, align='center', label='Tumor Volume Mean (mm3)') \n",
    "plt.xlim(-1,10)\n",
    "plt.ylim(0,70)\n",
    "plt.title(\"Treatment Regimen Analysis\")\n",
    "plt.ylabel(\"Average Tumor Volume (mm3)\")\n",
    "plt.legend(loc='best')\n",
    "tick_locations = [value for value in x_axis]\n",
    "plt.xticks(tick_locations, x_axis, rotation='vertical')\n",
    "\n",
    "\n",
    "plt.show()"
   ]
  },
  {
   "cell_type": "markdown",
   "metadata": {},
   "source": [
    "## Pie plots"
   ]
  },
  {
   "cell_type": "code",
   "execution_count": 35,
   "metadata": {},
   "outputs": [
    {
     "data": {
      "image/png": "[encoded data removed]",
      "text/plain": [
       "<Figure size 288x288 with 1 Axes>"
      ]
     },
     "metadata": {},
     "output_type": "display_data"
    }
   ],
   "source": [
    "# Generate a pie plot showing the distribution of female versus male mice using pandas\n",
    "male = (len(study_data.loc[study_data[\"Sex\"] == \"Male\",:])/len(study_data[\"Sex\"]))*100\n",
    "female = (len(study_data.loc[study_data[\"Sex\"] == \"Female\",:])/len(study_data[\"Sex\"]))*100\n",
    "df = pd.DataFrame({\"Sex\": [male, female], \"Mice\":[\"Male\", \"Female\"]})\n",
    "df = df.set_index('Mice')\n",
    "\n",
    "plot = df.plot.pie(y=\"Sex\", figsize =(4, 4), explode=(0.1,0), colors = 'cr', autopct='%1.1f%%',startangle = 70)"
   ]
  },
  {
   "cell_type": "code",
   "execution_count": 36,
   "metadata": {},
   "outputs": [
    {
     "data": {
      "image/png": "[encoded data removed]",
      "text/plain": [
       "<Figure size 288x288 with 1 Axes>"
      ]
     },
     "metadata": {},
     "output_type": "display_data"
    }
   ],
   "source": [
    "# Generate a pie plot showing the distribution of female versus male mice using pyplot\n",
    "male = (len(study_data.loc[study_data[\"Sex\"] == \"Male\",:])/len(study_data[\"Sex\"]))*100\n",
    "female = (len(study_data.loc[study_data[\"Sex\"] == \"Female\",:])/len(study_data[\"Sex\"]))*100\n",
    "df = pd.DataFrame({\"Sex\": [male, female], \"Mice\":[\"Male\", \"Female\"]})\n",
    "df = df.set_index('Mice')\n",
    "sizes =[male, female]\n",
    "colors = [\"c\", \"r\"]\n",
    "labels = [\"Male\",\"Female\"]\n",
    "fig, ax = plt.subplots(figsize=(4, 4), subplot_kw=dict(aspect=\"equal\"))\n",
    "plt.legend(labels, loc='best')\n",
    "explode = (0.1, 0)\n",
    "pie_chart = plt.pie(sizes, labels = labels,explode=explode, autopct = '%1.1f%%', colors=colors, startangle = 70, shadow = True)\n",
    "plt.legend(labels, loc='best')\n",
    "plt.title='Sex'\n",
    "plt.show()"
   ]
  },
  {
   "cell_type": "markdown",
   "metadata": {},
   "source": [
    "## Quartiles, outliers and boxplots"
   ]
  },
  {
   "cell_type": "code",
   "execution_count": 7,
   "metadata": {},
   "outputs": [],
   "source": [
    "# Calculate the final tumor volume of each mouse across four of the most promising treatment regimens. Calculate the IQR and quantitatively determine if there are any potential outliers. \n"
   ]
  },
  {
   "cell_type": "code",
   "execution_count": 8,
   "metadata": {},
   "outputs": [],
   "source": [
    "# Generate a box plot of the final tumor volume of each mouse across four regimens of interest"
   ]
  },
  {
   "cell_type": "markdown",
   "metadata": {},
   "source": [
    "## Line and scatter plots"
   ]
  },
  {
   "cell_type": "code",
   "execution_count": 9,
   "metadata": {},
   "outputs": [],
   "source": [
    "# Generate a line plot of time point versus tumor volume for a mouse treated with Capomulin"
   ]
  },
  {
   "cell_type": "code",
   "execution_count": 10,
   "metadata": {},
   "outputs": [],
   "source": [
    "# Generate a scatter plot of mouse weight versus average tumor volume for the Capomulin regimen"
   ]
  },
  {
   "cell_type": "code",
   "execution_count": 11,
   "metadata": {},
   "outputs": [],
   "source": [
    "# Calculate the correlation coefficient and linear regression model for mouse weight and average tumor volume for the Capomulin regimen"
   ]
  },
  {
   "cell_type": "code",
   "execution_count": null,
   "metadata": {},
   "outputs": [],
   "source": []
  }
 ],
 "metadata": {
  "anaconda-cloud": {},
  "kernelspec": {
   "display_name": "Python 3",
   "language": "python",
   "name": "python3"
  },
  "language_info": {
   "codemirror_mode": {
    "name": "ipython",
    "version": 3
   },
   "file_extension": ".py",
   "mimetype": "text/x-python",
   "name": "python",
   "nbconvert_exporter": "python",
   "pygments_lexer": "ipython3",
   "version": "3.7.6"
  }
 },
 "nbformat": 4,
 "nbformat_minor": 2
}
